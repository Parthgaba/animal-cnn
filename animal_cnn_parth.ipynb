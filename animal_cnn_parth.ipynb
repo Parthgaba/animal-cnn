{
  "nbformat": 4,
  "nbformat_minor": 0,
  "metadata": {
    "colab": {
      "name": "animal cnn parth.ipynb",
      "provenance": []
    },
    "kernelspec": {
      "name": "python3",
      "display_name": "Python 3"
    }
  },
  "cells": [
    {
      "cell_type": "markdown",
      "metadata": {
        "id": "qqtzfR7nyBMn"
      },
      "source": [
        "# **CNN**"
      ]
    },
    {
      "cell_type": "code",
      "metadata": {
        "id": "XSL-t77HBTI1"
      },
      "source": [
        "import numpy as np\n",
        "import keras\n",
        "from keras.models import Sequential\n",
        "from keras.layers import Dense , Flatten , Conv2D , MaxPooling2D , Activation\n",
        "from keras.layers.normalization import BatchNormalization"
      ],
      "execution_count": null,
      "outputs": []
    },
    {
      "cell_type": "code",
      "metadata": {
        "id": "io8ASp3QykLG",
        "colab": {
          "base_uri": "https://localhost:8080/"
        },
        "outputId": "450ae061-ebbc-41c2-dc30-c4420f9e312d"
      },
      "source": [
        "(a,b),(c,d) = keras.datasets.cifar10.load_data()"
      ],
      "execution_count": null,
      "outputs": [
        {
          "output_type": "stream",
          "text": [
            "Downloading data from https://www.cs.toronto.edu/~kriz/cifar-10-python.tar.gz\n",
            "170500096/170498071 [==============================] - 11s 0us/step\n"
          ],
          "name": "stdout"
        }
      ]
    },
    {
      "cell_type": "code",
      "metadata": {
        "id": "o0nxN_wJyuAx",
        "colab": {
          "base_uri": "https://localhost:8080/",
          "height": 266
        },
        "outputId": "13da0f22-52b0-4f07-d37b-bed1c961460f"
      },
      "source": [
        "import matplotlib.pyplot as plt\n",
        "plt.imshow(a[9])\n",
        "plt.show()"
      ],
      "execution_count": null,
      "outputs": [
        {
          "output_type": "display_data",
          "data": {
            "image/png": "[encoded data removed]",
            "text/plain": [
              "<Figure size 432x288 with 1 Axes>"
            ]
          },
          "metadata": {
            "tags": []
          }
        }
      ]
    },
    {
      "cell_type": "code",
      "metadata": {
        "id": "LuVGC1g_zesQ"
      },
      "source": [
        "a = a/255\n",
        "c = c/255"
      ],
      "execution_count": null,
      "outputs": []
    },
    {
      "cell_type": "code",
      "metadata": {
        "id": "RfCn3fa8zs03",
        "colab": {
          "base_uri": "https://localhost:8080/",
          "height": 266
        },
        "outputId": "7be411e0-99a4-459d-a7a4-70a4e84c5d4c"
      },
      "source": [
        "import matplotlib.pyplot as plt\n",
        "plt.imshow(a[9])\n",
        "plt.show()"
      ],
      "execution_count": null,
      "outputs": [
        {
          "output_type": "display_data",
          "data": {
            "image/png": "[encoded data removed]",
            "text/plain": [
              "<Figure size 432x288 with 1 Axes>"
            ]
          },
          "metadata": {
            "tags": [],
            "needs_background": "light"
          }
        }
      ]
    },
    {
      "cell_type": "code",
      "metadata": {
        "id": "7faWeTML0ZWv"
      },
      "source": [
        "from keras.utils import to_categorical\n",
        "y_train_one_hot = to_categorical(b)\n",
        "y_test_one_hot = to_categorical(d)"
      ],
      "execution_count": null,
      "outputs": []
    },
    {
      "cell_type": "code",
      "metadata": {
        "id": "qS25gQeN1fIw",
        "colab": {
          "base_uri": "https://localhost:8080/"
        },
        "outputId": "580660fd-e523-4dcf-97b6-50f97eb19d66"
      },
      "source": [
        "a.shape"
      ],
      "execution_count": null,
      "outputs": [
        {
          "output_type": "execute_result",
          "data": {
            "text/plain": [
              "(50000, 32, 32, 3)"
            ]
          },
          "metadata": {
            "tags": []
          },
          "execution_count": 7
        }
      ]
    },
    {
      "cell_type": "code",
      "metadata": {
        "id": "H9BhRkvi0euP",
        "colab": {
          "base_uri": "https://localhost:8080/"
        },
        "outputId": "abb54e78-ea0f-4d92-8cd7-32d5abec8b2a"
      },
      "source": [
        "y_train_one_hot.shape[1]"
      ],
      "execution_count": null,
      "outputs": [
        {
          "output_type": "execute_result",
          "data": {
            "text/plain": [
              "10"
            ]
          },
          "metadata": {
            "tags": []
          },
          "execution_count": 8
        }
      ]
    },
    {
      "cell_type": "code",
      "metadata": {
        "id": "hPr0prUUzQWd"
      },
      "source": [
        "#CNN\n",
        "model = Sequential()\n",
        "\n",
        "#Convoluation layer -- entry point\n",
        "model.add(Conv2D(32,(5,5),activation='relu',input_shape=(32,32,3)))\n",
        "#MaxPooling layer\n",
        "model.add(MaxPooling2D(pool_size=(2,2)))\n",
        "\n",
        "#again\n",
        "model.add(Conv2D(32,(5,5),activation='relu'))\n",
        "model.add(MaxPooling2D(pool_size=(2,2)))\n",
        "\n",
        "#Flatten layer\n",
        "model.add(Flatten())\n",
        "\n",
        "model.add(Dense(1000,activation='relu'))\n",
        "model.add(Dense(y_train_one_hot.shape[1]))\n",
        "model.add(Dense(10,activation='softmax'))"
      ],
      "execution_count": null,
      "outputs": []
    },
    {
      "cell_type": "code",
      "metadata": {
        "id": "5vlY9EE93kRW",
        "colab": {
          "base_uri": "https://localhost:8080/"
        },
        "outputId": "0fb1bfe5-2fe7-4c5f-ef25-b0ef55cee9d3"
      },
      "source": [
        "model"
      ],
      "execution_count": null,
      "outputs": [
        {
          "output_type": "execute_result",
          "data": {
            "text/plain": [
              "<tensorflow.python.keras.engine.sequential.Sequential at 0x7fbb0fb3bfd0>"
            ]
          },
          "metadata": {
            "tags": []
          },
          "execution_count": 11
        }
      ]
    },
    {
      "cell_type": "code",
      "metadata": {
        "id": "bBQelLK73lTz"
      },
      "source": [
        "#compile the model\n",
        "model.compile(loss='categorical_crossentropy',optimizer='adam',metrics=['accuracy'])"
      ],
      "execution_count": null,
      "outputs": []
    },
    {
      "cell_type": "code",
      "metadata": {
        "id": "0Pbp1h51zRxh",
        "colab": {
          "base_uri": "https://localhost:8080/"
        },
        "outputId": "7c4ff53a-9e95-48a7-831f-c17791bafa41"
      },
      "source": [
        "#Train the model\n",
        "hist = model.fit(a,y_train_one_hot,batch_size=256,epochs=10,validation_split=0.3)"
      ],
      "execution_count": null,
      "outputs": [
        {
          "output_type": "stream",
          "text": [
            "Epoch 1/10\n",
            "137/137 [==============================] - 48s 344ms/step - loss: 1.9765 - accuracy: 0.2728 - val_loss: 1.5198 - val_accuracy: 0.4422\n",
            "Epoch 2/10\n",
            "137/137 [==============================] - 47s 343ms/step - loss: 1.4650 - accuracy: 0.4692 - val_loss: 1.4198 - val_accuracy: 0.4997\n",
            "Epoch 3/10\n",
            "137/137 [==============================] - 47s 347ms/step - loss: 1.2812 - accuracy: 0.5444 - val_loss: 1.2373 - val_accuracy: 0.5723\n",
            "Epoch 4/10\n",
            "137/137 [==============================] - 47s 344ms/step - loss: 1.1400 - accuracy: 0.5957 - val_loss: 1.1535 - val_accuracy: 0.5921\n",
            "Epoch 5/10\n",
            "137/137 [==============================] - 47s 344ms/step - loss: 1.0492 - accuracy: 0.6306 - val_loss: 1.1184 - val_accuracy: 0.6078\n",
            "Epoch 6/10\n",
            "137/137 [==============================] - 47s 344ms/step - loss: 0.9864 - accuracy: 0.6533 - val_loss: 1.1325 - val_accuracy: 0.6143\n",
            "Epoch 7/10\n",
            "137/137 [==============================] - 47s 343ms/step - loss: 0.8982 - accuracy: 0.6858 - val_loss: 1.0933 - val_accuracy: 0.6273\n",
            "Epoch 8/10\n",
            "137/137 [==============================] - 53s 385ms/step - loss: 0.8209 - accuracy: 0.7109 - val_loss: 1.0439 - val_accuracy: 0.6437\n",
            "Epoch 9/10\n",
            "137/137 [==============================] - 47s 345ms/step - loss: 0.7399 - accuracy: 0.7423 - val_loss: 1.0500 - val_accuracy: 0.6465\n",
            "Epoch 10/10\n",
            "137/137 [==============================] - 47s 343ms/step - loss: 0.6698 - accuracy: 0.7666 - val_loss: 1.0272 - val_accuracy: 0.6620\n"
          ],
          "name": "stdout"
        }
      ]
    },
    {
      "cell_type": "code",
      "metadata": {
        "id": "u7Qg5ebp4Cci",
        "colab": {
          "base_uri": "https://localhost:8080/",
          "height": 51
        },
        "outputId": "647a30e6-9916-4ef8-94f1-90ec5d3117c9"
      },
      "source": [
        "model.evaluate(c,y_test_one_hot)[1]"
      ],
      "execution_count": null,
      "outputs": [
        {
          "output_type": "stream",
          "text": [
            "10000/10000 [==============================] - 5s 470us/step\n"
          ],
          "name": "stdout"
        },
        {
          "output_type": "execute_result",
          "data": {
            "text/plain": [
              "0.6796"
            ]
          },
          "metadata": {
            "tags": []
          },
          "execution_count": 44
        }
      ]
    },
    {
      "cell_type": "code",
      "metadata": {
        "id": "HD5gA-sV8Kg6",
        "colab": {
          "base_uri": "https://localhost:8080/",
          "height": 295
        },
        "outputId": "023b1618-d7b4-450a-9e6f-b9a3997220f8"
      },
      "source": [
        "#visualize the model accuracy\n",
        "plt.plot(hist.history['acc'])\n",
        "plt.plot(hist.history['val_acc'])\n",
        "plt.title('Model Accuracy')\n",
        "plt.ylabel('Accuracy')\n",
        "plt.xlabel('Epoch')\n",
        "plt.legend(['Train','val'],loc='upper left')\n",
        "plt.show()"
      ],
      "execution_count": null,
      "outputs": [
        {
          "output_type": "display_data",
          "data": {
            "image/png": "[encoded data removed]",
            "text/plain": [
              "<Figure size 432x288 with 1 Axes>"
            ]
          },
          "metadata": {
            "tags": []
          }
        }
      ]
    },
    {
      "cell_type": "code",
      "metadata": {
        "id": "K8ntsf528Pw3",
        "colab": {
          "base_uri": "https://localhost:8080/",
          "height": 295
        },
        "outputId": "fd1a76e5-0698-41d3-867d-d92cf9df743f"
      },
      "source": [
        "#visualize the model loss\n",
        "plt.plot(hist.history['loss'])\n",
        "plt.plot(hist.history['val_loss'])\n",
        "plt.title('Model Loss')\n",
        "plt.ylabel('Loss')\n",
        "plt.xlabel('Epoch')\n",
        "plt.legend(['Train','val'],loc='upper right')\n",
        "plt.show()"
      ],
      "execution_count": null,
      "outputs": [
        {
          "output_type": "display_data",
          "data": {
            "image/png": "[encoded data removed]",
            "text/plain": [
              "<Figure size 432x288 with 1 Axes>"
            ]
          },
          "metadata": {
            "tags": []
          }
        }
      ]
    },
    {
      "cell_type": "code",
      "metadata": {
        "id": "UYEgqSqM8Rj9"
      },
      "source": [
        "model.save('animalsclassifier.h5')"
      ],
      "execution_count": null,
      "outputs": []
    },
    {
      "cell_type": "code",
      "metadata": {
        "id": "vQOdBE548Z_e",
        "colab": {
          "base_uri": "https://localhost:8080/",
          "height": 68
        },
        "outputId": "304b7595-340b-4544-81cd-9337b96e8803"
      },
      "source": [
        "#Get the probabilities for each class\n",
        "import numpy as np\n",
        "probabilities = model.predict(np.array([c[3],]))\n",
        "\n",
        "\n",
        "probabilities"
      ],
      "execution_count": null,
      "outputs": [
        {
          "output_type": "execute_result",
          "data": {
            "text/plain": [
              "array([[9.8585343e-01, 9.4664394e-04, 2.9790442e-04, 4.9839191e-06,\n",
              "        3.0631773e-04, 1.2932517e-09, 1.0739634e-08, 5.4476038e-07,\n",
              "        1.2588693e-02, 1.5372244e-06]], dtype=float32)"
            ]
          },
          "metadata": {
            "tags": []
          },
          "execution_count": 47
        }
      ]
    },
    {
      "cell_type": "code",
      "metadata": {
        "id": "M7NGmTGE8fGP",
        "colab": {
          "base_uri": "https://localhost:8080/",
          "height": 34
        },
        "outputId": "172c7169-2a50-490a-97a2-d7cf8b3dcecd"
      },
      "source": [
        "probabilities.max()"
      ],
      "execution_count": null,
      "outputs": [
        {
          "output_type": "execute_result",
          "data": {
            "text/plain": [
              "0.98585343"
            ]
          },
          "metadata": {
            "tags": []
          },
          "execution_count": 48
        }
      ]
    },
    {
      "cell_type": "code",
      "metadata": {
        "id": "Rn-M-GXJ8jEF",
        "colab": {
          "base_uri": "https://localhost:8080/",
          "height": 266
        },
        "outputId": "80377318-fd04-403e-a0bc-b13e7292752f"
      },
      "source": [
        "import matplotlib.pyplot as plt\n",
        "plt.imshow(c[3])\n",
        "plt.show()"
      ],
      "execution_count": null,
      "outputs": [
        {
          "output_type": "display_data",
          "data": {
            "image/png": "[encoded data removed]",
            "text/plain": [
              "<Figure size 432x288 with 1 Axes>"
            ]
          },
          "metadata": {
            "tags": []
          }
        }
      ]
    }
  ]
}